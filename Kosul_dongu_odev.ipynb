{
 "cells": [
  {
   "cell_type": "markdown",
   "id": "409f0f4a",
   "metadata": {},
   "source": [
    "**Ödev-1:** Kullanıcıdan maaş bilgisini istenir ve bu bilgiye göre maaşından ne kadar vergi kesileceğini hesaplanır. Kullanıcının geliri;\n",
    "\n",
    "1. 10000 ve altındaysa maaşından %5 kesinti olur.\n",
    "2. 25000 ve altındaysa maaşından %10 kesinti olur.\n",
    "3. 45000 ve altındaysa maaşından %25 kesinti olur.\n",
    "4. Diğer koşullarda %30 kesinti olur.\n",
    "\n",
    "Bu durumlara göre kullanıcının yeni maaşı yazdırılır."
   ]
  },
  {
   "cell_type": "code",
   "execution_count": 13,
   "id": "5246e510",
   "metadata": {},
   "outputs": [
    {
     "name": "stdin",
     "output_type": "stream",
     "text": [
      "Lütfen maaşınızı giriniz:  50000\n"
     ]
    },
    {
     "name": "stdout",
     "output_type": "stream",
     "text": [
      "Yeni maaşınız: 35000.0\n"
     ]
    }
   ],
   "source": [
    "maas=int(input(\"Lütfen maaşınızı giriniz: \" )) \n",
    "\n",
    "if maas <= 10000:\n",
    "    islem = maas-((maas*5)/100)\n",
    "    print(\"Yeni maaşınız:\", islem)\n",
    "    \n",
    "elif maas >= 10000 and maas<= 25000:\n",
    "    islem = maas-((maas*10)/100)\n",
    "    print(\"Yeni maaşınız:\", islem)\n",
    "    \n",
    "elif maas >= 25000 and maas<= 45000:\n",
    "    islem = maas-((maas*25)/100)\n",
    "    print(\"Yeni maaşınız:\", islem)\n",
    "    \n",
    "elif maas >= 45000:\n",
    "    islem = maas-((maas*30)/100)\n",
    "    print(\"Yeni maaşınız:\", islem)"
   ]
  },
  {
   "cell_type": "markdown",
   "id": "f5fe8798",
   "metadata": {},
   "source": [
    "**Ödev-2:** Kullanıcıdan kullanıcı adı ve şifre oluşturmasını istenir. Şifrenin uzunluğu altı haneye ulaşmışsa hesabınız oluşturuldu mesajı alınır, altı haneden azsa altı haneli şifre oluşturması gerektiğinin mesajı alınır. *(Sadece koşul kullanılması yeterli.)*"
   ]
  },
  {
   "cell_type": "code",
   "execution_count": 4,
   "id": "6acffe57",
   "metadata": {},
   "outputs": [
    {
     "name": "stdin",
     "output_type": "stream",
     "text": [
      "Kullanıcı adınızı oluşturunuz:  eyl\n",
      "Şifrenizi oluşturunuz:  76879090\n"
     ]
    },
    {
     "name": "stdout",
     "output_type": "stream",
     "text": [
      "Şifre uzunluğu 6 haneden küçük veya eşit olmalı!\n"
     ]
    }
   ],
   "source": [
    "kullanici_adi =input(\"Kullanıcı adınızı oluşturunuz: \" )\n",
    "sifre =input(\"Şifrenizi oluşturunuz: \" )\n",
    "\n",
    "if not sifre.isdigit():\n",
    "    print(\"HATA: Şifre sadece sayılardan oluşmalıdır!\")\n",
    "\n",
    "elif len(sifre) <= 6:\n",
    "    sifre_i = int(sifre)\n",
    "    print(\"Hesabınız oluşturuldu.\")\n",
    "\n",
    "else:  \n",
    "    print(\"Şifre uzunluğu 6 haneden küçük veya eşit olmalı!\")"
   ]
  },
  {
   "cell_type": "markdown",
   "id": "aaccf11a",
   "metadata": {},
   "source": [
    "**Ödev-3:** Bir önceki örnek geliştirilir.\n",
    "\n",
    "1. Kullanıcı girdiği şifre 5 ve 10 hane arasında olmak zorunda.\n",
    "2. Eğer bu koşula uyuyorsa \"Hesabınız oluşturuldu.\" mesajı alır.\n",
    "3. Koşulu sağlamıyorsa \"Lütfen girdiniz şifre 5 haneden az 10 haneden fazla olmasın!\" uyarısı alır.\n",
    "4. Bunu oluştururken kullanıcı istediğimiz şartlarda şifre oluşturana kadar sormaya devam eder"
   ]
  },
  {
   "cell_type": "code",
   "execution_count": 17,
   "id": "039e50dc",
   "metadata": {},
   "outputs": [
    {
     "name": "stdin",
     "output_type": "stream",
     "text": [
      "Kullanıcı adınızı oluşturunuz:  eyl\n",
      "Şifrenizi oluşturunuz:  3455677\n"
     ]
    },
    {
     "name": "stdout",
     "output_type": "stream",
     "text": [
      "Hesabınız oluşturuldu.\n"
     ]
    }
   ],
   "source": [
    "kullanici_adi = input(\"Kullanıcı adınızı oluşturunuz: \")\n",
    "sifre = input(\"Şifrenizi oluşturunuz: \")\n",
    "\n",
    "if not sifre.isdigit():\n",
    "    print(\"HATA: Şifre sadece sayılardan oluşmalıdır!\")\n",
    "\n",
    "elif len(sifre) >= 5 and len(sifre) <= 10:\n",
    "    print(\"Hesabınız oluşturuldu.\")\n",
    "\n",
    "else:\n",
    "    print(\"Lütfen girdiğiniz şifre 5 haneden az veya 10 haneden fazla olmasın! (Mevcut:\", len(sifre), \"h.)\")"
   ]
  },
  {
   "cell_type": "markdown",
   "id": "8ba81863",
   "metadata": {},
   "source": [
    "**Ödev-4:** Kullanıcıdan isim ve şifre isteyeceğiz ve şifre girişi için üç hak verilir.\n",
    "\n",
    "1. Eğer önceden tanımlı şifre ile kullanıcıdan gelen şifre aynıysa \"Giriş yapıldı.\" yazar.\n",
    "2. Şifre girişi yanlışsa \"Yanlış şifre girildi!\" uyarısı verilsin ve üç yanlış denemede program biter.\n",
    "3. Tercihe göre kalan hak bilgisi verilir."
   ]
  },
  {
   "cell_type": "code",
   "execution_count": null,
   "id": "8f45ea0c",
   "metadata": {},
   "outputs": [],
   "source": [
    "tanimli_sifre = \"123456\"\n",
    "maksimum_hak = 3\n",
    "kalan_hak = maksimum_hak\n",
    "\n",
    "while kalan_hak > 0:\n",
    "    girilen_sifre = input(f\"Şifrenizi giriniz ({kalan_hak} hakkınız kaldı): \")\n",
    "    \n",
    "    if girilen_sifre == tanımlı_sifre:\n",
    "        print(\"Giriş yapıldı.\")\n",
    "        break\n",
    "        \n",
    "    else:\n",
    "        kalan_hak -= 1\n",
    "        print(\"Yanlış şifre!\")\n",
    "\n",
    "        if kalan_hak == 0:\n",
    "            print(\"\\nHakkınız bitti. Giriş başarısız.\")\n",
    "            break\n",
    "        # Kalan hak bilgisi verilir\n",
    "        else:\n",
    "            print(f\"Lütfen tekrar deneyin. Kalan hakkınız: {kalan_hak}\")"
   ]
  }
 ],
 "metadata": {
  "kernelspec": {
   "display_name": "Python [conda env:base] *",
   "language": "python",
   "name": "conda-base-py"
  },
  "language_info": {
   "codemirror_mode": {
    "name": "ipython",
    "version": 3
   },
   "file_extension": ".py",
   "mimetype": "text/x-python",
   "name": "python",
   "nbconvert_exporter": "python",
   "pygments_lexer": "ipython3",
   "version": "3.12.7"
  }
 },
 "nbformat": 4,
 "nbformat_minor": 5
}
