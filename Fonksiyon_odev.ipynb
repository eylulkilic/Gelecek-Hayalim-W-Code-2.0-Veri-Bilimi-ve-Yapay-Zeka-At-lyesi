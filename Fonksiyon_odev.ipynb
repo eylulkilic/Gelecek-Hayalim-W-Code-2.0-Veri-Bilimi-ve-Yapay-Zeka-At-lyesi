{
 "cells": [
  {
   "cell_type": "markdown",
   "metadata": {},
   "source": [
    "#### Ödev 1\n",
    "Kullanıcıdan pi değeri ve yarıçap bilgisi alarak dairenin alanını hesaplayan bir fonksiyon oluşturulur."
   ]
  },
  {
   "cell_type": "code",
   "execution_count": 1,
   "metadata": {
    "vscode": {
     "languageId": "plaintext"
    }
   },
   "outputs": [
    {
     "name": "stdin",
     "output_type": "stream",
     "text": [
      "Lütfen yarıçapı giriniz: 4\n"
     ]
    },
    {
     "name": "stdout",
     "output_type": "stream",
     "text": [
      "Dairenin alanı: 48.0\n"
     ]
    }
   ],
   "source": [
    "yaricap=float(input(\"Lütfen yarıçapı giriniz:\"))\n",
    "\n",
    "pi=3\n",
    "dairenin_alani=pi*yaricap*yaricap\n",
    "\n",
    "print(\"Dairenin alanı:\" ,dairenin_alani)"
   ]
  },
  {
   "cell_type": "markdown",
   "metadata": {},
   "source": [
    "#### Ödev 2\n",
    "\n",
    "Faktöriyel adında fonksiyon oluşturulur. Döngü kullanarak parametre olarak girilen sayının faktöriyeli hesaplanır. Format metodunu kullanılarak ekrana yazdırılır."
   ]
  },
  {
   "cell_type": "code",
   "execution_count": 27,
   "metadata": {
    "vscode": {
     "languageId": "plaintext"
    }
   },
   "outputs": [
    {
     "name": "stdin",
     "output_type": "stream",
     "text": [
      "Lütfen faktöriyelini hesaplamak istediğiniz pozitif tam sayıyı giriniz:  0\n"
     ]
    },
    {
     "name": "stdout",
     "output_type": "stream",
     "text": [
      "Girilen sayının (0) faktöriyeli: 1\n"
     ]
    }
   ],
   "source": [
    "def faktoriyel(sayi):\n",
    "   \n",
    "    # Girdi Kontrolü (Negatif sayılar ve ondalıklı sayılar için)\n",
    "    if not isinstance(sayi, int) or sayi < 0:\n",
    "        print(\"Hata: Faktöriyel sadece pozitif tam sayılar veya sıfır için tanımlıdır.\")\n",
    "        return None \n",
    "\n",
    "    # 0'ın faktöriyeli\n",
    "    if sayi == 0:\n",
    "        sonuc = 1\n",
    "        \n",
    "    # Döngü ile hesaplama \n",
    "    else:\n",
    "        sonuc = 1\n",
    "        for i in range(1, sayi + 1):\n",
    "            sonuc *= i\n",
    "    \n",
    "    cikti_metni = \"Girilen sayının ({}) faktöriyeli: {}\"\n",
    "    \n",
    "    if sonuc is not None:\n",
    "        print(cikti_metni.format(sayi, sonuc))\n",
    "\n",
    "    return sonuc\n",
    "\n",
    "try:\n",
    "    giris = input(\"Lütfen faktöriyelini hesaplamak istediğiniz pozitif tam sayıyı giriniz: \")\n",
    "    girilen_sayi = int(giris)\n",
    "    \n",
    "    faktoriyel(girilen_sayi)\n",
    "\n",
    "except ValueError:\n",
    "    print(\"Geçersiz giriş! Lütfen sadece tam sayı giriniz.\")"
   ]
  },
  {
   "cell_type": "markdown",
   "metadata": {},
   "source": [
    "#### Ödev 3\n",
    "Kişinin fonksiyona doğum yılını vererek kaç yaşında olduğunu hesaplayan bir fonksiyon oluşturun. "
   ]
  },
  {
   "cell_type": "code",
   "execution_count": 4,
   "metadata": {
    "vscode": {
     "languageId": "plaintext"
    }
   },
   "outputs": [
    {
     "name": "stdin",
     "output_type": "stream",
     "text": [
      "Doğum yılınızı giriniz: 2003\n",
      "Şu an hangi yıldayız?: 2025\n"
     ]
    },
    {
     "name": "stdout",
     "output_type": "stream",
     "text": [
      "Yaşınız: 22\n"
     ]
    }
   ],
   "source": [
    "dogum_yili=int(input(\"Doğum yılınızı giriniz:\"))\n",
    "yil=int(input(\"Şu an hangi yıldayız?:\"))\n",
    "\n",
    "yas= yil - dogum_yili\n",
    "\n",
    "print(\"Yaşınız:\" ,yas)"
   ]
  },
  {
   "cell_type": "markdown",
   "metadata": {},
   "source": [
    "#### Ödev 4\n",
    "\n",
    "Doğum yılı ve isim bilgisi verilen fonksiyon kişinin emekli olup olmadığını söylesin.(Kişi 65 yaşında ise emekli olur.) Burada yaş hesabını yukarıdaki örnekteki fonksiyonu kullanarak yapsın.(Yani fonksiyon içinde fonksiyon kullanmanızı istiyorum :)) Kişi 65 yaşında ya da daha fazlaysa \"Emekli oldunuz\" yanıtını, 65 yaşından küçükse emekliliğine kaç yıl kaldığını da hesaplayarak \"(isim) emekliliğine (yıl) kaldı.\" yanıtını versin."
   ]
  },
  {
   "cell_type": "code",
   "execution_count": 10,
   "metadata": {
    "vscode": {
     "languageId": "plaintext"
    }
   },
   "outputs": [
    {
     "name": "stdin",
     "output_type": "stream",
     "text": [
      "Doğum yılınızı giriniz: 2003\n",
      "Şu an hangi yıldayız?: 2025\n"
     ]
    },
    {
     "name": "stdout",
     "output_type": "stream",
     "text": [
      "Emekli olmanıza 43 yıl kaldı! \n"
     ]
    }
   ],
   "source": [
    "dogum_yili = int(input(\"Doğum yılınızı giriniz:\"))\n",
    "yil = int(input(\"Şu an hangi yıldayız?:\"))\n",
    "\n",
    "yas = yil - dogum_yili\n",
    "emeklilik_yasi = 65\n",
    "kalan = emeklilik_yasi - yas\n",
    "\n",
    "if yas >= emeklilik_yasi:\n",
    "    print(\"Emekli Oldunuz!\")\n",
    "\n",
    "else:\n",
    "    print(\"Emekli olmanıza {} yıl kaldı! \".format(kalan))"
   ]
  },
  {
   "cell_type": "code",
   "execution_count": null,
   "metadata": {},
   "outputs": [],
   "source": []
  }
 ],
 "metadata": {
  "kernelspec": {
   "display_name": "Python [conda env:base] *",
   "language": "python",
   "name": "conda-base-py"
  },
  "language_info": {
   "codemirror_mode": {
    "name": "ipython",
    "version": 3
   },
   "file_extension": ".py",
   "mimetype": "text/x-python",
   "name": "python",
   "nbconvert_exporter": "python",
   "pygments_lexer": "ipython3",
   "version": "3.12.7"
  }
 },
 "nbformat": 4,
 "nbformat_minor": 4
}
